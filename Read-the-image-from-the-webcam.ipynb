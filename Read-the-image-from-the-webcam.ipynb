{
 "cells": [
  {
   "cell_type": "code",
   "execution_count": 1,
   "id": "22a838dd-3ce3-4217-9474-d72fd79ab6e5",
   "metadata": {},
   "outputs": [],
   "source": [
    "import cv2"
   ]
  },
  {
   "cell_type": "code",
   "execution_count": 9,
   "id": "c17eccb1-cd7d-4195-b4b5-804a523fc7f5",
   "metadata": {},
   "outputs": [],
   "source": [
    "camera = cv2.VideoCapture(-1)\n",
    "\n",
    "while camera.isOpened():\n",
    "    _,frame = camera.read()\n",
    "    frame = cv2.flip(frame, 1)\n",
    "\n",
    "    cv2.imshow(\"Web Cam\", frame)\n",
    "    if cv2.waitKey(1) & 0xFF == ord('q'):\n",
    "        break\n",
    "\n",
    "camera.release()\n",
    "cv2.destroyAllWindows()"
   ]
  }
 ],
 "metadata": {
  "kernelspec": {
   "display_name": "Python 3 (ipykernel)",
   "language": "python",
   "name": "python3"
  },
  "language_info": {
   "codemirror_mode": {
    "name": "ipython",
    "version": 3
   },
   "file_extension": ".py",
   "mimetype": "text/x-python",
   "name": "python",
   "nbconvert_exporter": "python",
   "pygments_lexer": "ipython3",
   "version": "3.8.10"
  }
 },
 "nbformat": 4,
 "nbformat_minor": 5
}
